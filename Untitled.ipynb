{
 "cells": [
  {
   "cell_type": "code",
   "execution_count": 3,
   "id": "422a6825",
   "metadata": {},
   "outputs": [
    {
     "name": "stdout",
     "output_type": "stream",
     "text": [
      "Groups in the file:\n",
      "['model_weights', 'optimizer_weights']\n",
      "Group: model_weights\n",
      "Dataset: conv2d\n",
      "Dataset: conv2d_1\n",
      "Dataset: conv2d_2\n",
      "Dataset: conv2d_3\n",
      "Dataset: dense_4\n",
      "Dataset: dense_5\n",
      "Dataset: dense_6\n",
      "Dataset: dense_7\n",
      "Dataset: dropout\n",
      "Dataset: dropout_1\n",
      "Dataset: dropout_2\n",
      "Dataset: flatten_1\n",
      "Dataset: leaky_re_lu\n",
      "Dataset: leaky_re_lu_1\n",
      "Dataset: leaky_re_lu_2\n",
      "Dataset: leaky_re_lu_3\n",
      "Dataset: leaky_re_lu_4\n",
      "Dataset: leaky_re_lu_5\n",
      "Dataset: leaky_re_lu_6\n",
      "Dataset: max_pooling2d\n",
      "Dataset: max_pooling2d_1\n",
      "Dataset: top_level_model_weights\n",
      "Group: optimizer_weights\n",
      "Dataset: Adam\n"
     ]
    }
   ],
   "source": [
    "import h5py\n",
    "\n",
    "h5_file_path = \"Intel_Image_Classification.h5\"\n",
    "\n",
    "with h5py.File(h5_file_path, \"r\") as file:\n",
    "    print(\"Groups in the file:\")\n",
    "    print(list(file.keys()))\n",
    "\n",
    "    # Jika file berisi grup dan dataset, Anda dapat mencetak informasi lebih lanjut\n",
    "    for group_name, group in file.items():\n",
    "        print(f\"Group: {group_name}\")\n",
    "        for dataset_name in group:\n",
    "            print(f\"Dataset: {dataset_name}\")\n"
   ]
  },
  {
   "cell_type": "code",
   "execution_count": null,
   "id": "5bedf862",
   "metadata": {},
   "outputs": [],
   "source": []
  }
 ],
 "metadata": {
  "kernelspec": {
   "display_name": "Python 3 (ipykernel)",
   "language": "python",
   "name": "python3"
  },
  "language_info": {
   "codemirror_mode": {
    "name": "ipython",
    "version": 3
   },
   "file_extension": ".py",
   "mimetype": "text/x-python",
   "name": "python",
   "nbconvert_exporter": "python",
   "pygments_lexer": "ipython3",
   "version": "3.9.12"
  }
 },
 "nbformat": 4,
 "nbformat_minor": 5
}
